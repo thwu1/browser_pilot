{
 "cells": [
  {
   "cell_type": "code",
   "execution_count": 1,
   "metadata": {},
   "outputs": [],
   "source": [
    "import pandas as pd\n",
    "import seaborn as sns\n",
    "import matplotlib.pyplot as plt\n",
    "\n"
   ]
  },
  {
   "cell_type": "code",
   "execution_count": 31,
   "metadata": {},
   "outputs": [],
   "source": [
    "sv_df = pd.read_csv(\"/home/tianhao/browser_pilot/benchmark/test_server_v1_merged_20250422_202721.csv\")\n",
    "pr_df = pd.read_csv(\"/home/tianhao/browser_pilot/multiprocess_async_playwright_merged_20250422_191035.csv\")"
   ]
  },
  {
   "cell_type": "code",
   "execution_count": 20,
   "metadata": {},
   "outputs": [
    {
     "data": {
      "text/plain": [
       "Index(['app_init', 'engine_recv', 'engine_send', 'worker_recv', 'worker_start',\n",
       "       'worker_finish', 'worker_send', 'engine_set_future', 'app_recv', 'cmds',\n",
       "       'app_to_engine', 'schedule_time', 'send_communication_time',\n",
       "       'worker_input_queue_time', 'worker_process_time',\n",
       "       'worker_output_queue_time', 'recv_communication_time', 'engine_to_app',\n",
       "       'total_time'],\n",
       "      dtype='object')"
      ]
     },
     "execution_count": 20,
     "metadata": {},
     "output_type": "execute_result"
    }
   ],
   "source": [
    "sv_df.columns"
   ]
  },
  {
   "cell_type": "code",
   "execution_count": 32,
   "metadata": {},
   "outputs": [],
   "source": [
    "worker_input_queue_time = sv_df[\"worker_input_queue_time\"]\n",
    "worker_output_queue_time = sv_df[\"worker_output_queue_time\"]\n",
    "app_to_engine = sv_df[\"app_to_engine\"]\n",
    "engine_to_app = sv_df[\"engine_to_app\"]\n",
    "send_communication_time = sv_df[\"send_communication_time\"]\n",
    "recv_communication_time = sv_df[\"recv_communication_time\"]\n",
    "worker_process_time = sv_df[\"worker_process_time\"]\n",
    "total_time = sv_df[\"total_time\"]"
   ]
  },
  {
   "cell_type": "code",
   "execution_count": 36,
   "metadata": {},
   "outputs": [
    {
     "name": "stdout",
     "output_type": "stream",
     "text": [
      "App to engine percentage: 0.00%\n",
      "Send communication time percentage: 0.22%\n",
      "Worker input queue time percentage: 0.07%\n",
      "Worker process time percentage: 80.94%\n",
      "Worker output queue time percentage: 0.00%\n",
      "Recv communication time percentage: 8.80%\n",
      "Engine to app percentage: 6.69%\n"
     ]
    }
   ],
   "source": [
    "worker_input_queue_time_percentage = worker_input_queue_time.sum() / total_time.sum() * 100\n",
    "worker_output_queue_time_percentage = worker_output_queue_time.sum() / total_time.sum() * 100\n",
    "app_to_engine_percentage = app_to_engine.sum() / total_time.sum() * 100\n",
    "engine_to_app_percentage = engine_to_app.sum() / total_time.sum() * 100\n",
    "send_communication_time_percentage = send_communication_time.sum() / total_time.sum() * 100\n",
    "recv_communication_time_percentage = recv_communication_time.sum() / total_time.sum() * 100\n",
    "worker_process_time_percentage = worker_process_time.sum() / total_time.sum() * 100\n",
    "\n",
    "print(f\"App to engine percentage: {app_to_engine_percentage:.2f}%\")\n",
    "print(f\"Send communication time percentage: {send_communication_time_percentage:.2f}%\")\n",
    "print(f\"Worker input queue time percentage: {worker_input_queue_time_percentage:.2f}%\")\n",
    "print(f\"Worker process time percentage: {worker_process_time_percentage:.2f}%\")\n",
    "print(f\"Worker output queue time percentage: {worker_output_queue_time_percentage:.2f}%\")\n",
    "print(f\"Recv communication time percentage: {recv_communication_time_percentage:.2f}%\")\n",
    "print(f\"Engine to app percentage: {engine_to_app_percentage:.2f}%\")\n"
   ]
  },
  {
   "cell_type": "code",
   "execution_count": 38,
   "metadata": {},
   "outputs": [
    {
     "name": "stdout",
     "output_type": "stream",
     "text": [
      "5.275476516948806\n",
      "4.269787753311296\n"
     ]
    }
   ],
   "source": [
    "print(sv_df[\"total_time\"].mean())\n",
    "print(sv_df[\"worker_process_time\"].mean())"
   ]
  },
  {
   "cell_type": "code",
   "execution_count": 35,
   "metadata": {},
   "outputs": [
    {
     "data": {
      "text/plain": [
       "np.float64(4.528998389322725)"
      ]
     },
     "execution_count": 35,
     "metadata": {},
     "output_type": "execute_result"
    }
   ],
   "source": [
    "pr_df[\"duration\"].mean()"
   ]
  }
 ],
 "metadata": {
  "kernelspec": {
   "display_name": "base",
   "language": "python",
   "name": "python3"
  },
  "language_info": {
   "codemirror_mode": {
    "name": "ipython",
    "version": 3
   },
   "file_extension": ".py",
   "mimetype": "text/x-python",
   "name": "python",
   "nbconvert_exporter": "python",
   "pygments_lexer": "ipython3",
   "version": "3.12.2"
  }
 },
 "nbformat": 4,
 "nbformat_minor": 2
}
